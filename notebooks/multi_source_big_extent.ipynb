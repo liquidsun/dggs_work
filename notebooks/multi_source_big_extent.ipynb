{
 "cells": [
  {
   "cell_type": "code",
   "execution_count": 77,
   "metadata": {},
   "outputs": [],
   "source": [
    "%matplotlib ipympl"
   ]
  },
  {
   "cell_type": "code",
   "execution_count": 2,
   "metadata": {},
   "outputs": [],
   "source": [
    "import sys\n",
    "import os\n",
    "import matplotlib.pyplot as plt\n",
    "import geopandas as gpd\n",
    "sys.path.append('..')\n",
    "from rasterio.mask import mask\n",
    "import math\n",
    "from mpl_toolkits.axes_grid1 import make_axes_locatable\n",
    "from h3_helper import *\n",
    "import seaborn as sns\n",
    "import fiona\n",
    "import pysal.viz.mapclassify as mc\n",
    "from libpysal.weights.contiguity import Queen"
   ]
  },
  {
   "cell_type": "markdown",
   "metadata": {},
   "source": [
    "### Elevation"
   ]
  },
  {
   "cell_type": "code",
   "execution_count": 53,
   "metadata": {},
   "outputs": [],
   "source": [
    "elevation_raster = os.path.dirname(os.getcwd()) + r\"/data/eesti_clipped/small_extent/MeritDEM90m.tif\""
   ]
  },
  {
   "cell_type": "code",
   "execution_count": 54,
   "metadata": {},
   "outputs": [
    {
     "name": "stdout",
     "output_type": "stream",
     "text": [
      "Raster pixel size 92.6624388709314\n",
      "10\n",
      "Start filling raster extent with h3 indexes at resolution 10\n",
      "Start getting raster values for hexes at resolution 10\n"
     ]
    }
   ],
   "source": [
    "h3_el_10 = raster_to_h3(elevation_raster, 'elevation', 8, 11, None, 1)"
   ]
  },
  {
   "cell_type": "code",
   "execution_count": 32,
   "metadata": {
    "collapsed": true,
    "jupyter": {
     "outputs_hidden": true
    }
   },
   "outputs": [
    {
     "data": {
      "text/html": [
       "<div>\n",
       "<style scoped>\n",
       "    .dataframe tbody tr th:only-of-type {\n",
       "        vertical-align: middle;\n",
       "    }\n",
       "\n",
       "    .dataframe tbody tr th {\n",
       "        vertical-align: top;\n",
       "    }\n",
       "\n",
       "    .dataframe thead th {\n",
       "        text-align: right;\n",
       "    }\n",
       "</style>\n",
       "<table border=\"1\" class=\"dataframe\">\n",
       "  <thead>\n",
       "    <tr style=\"text-align: right;\">\n",
       "      <th></th>\n",
       "      <th>cell_id</th>\n",
       "      <th>elevation</th>\n",
       "    </tr>\n",
       "  </thead>\n",
       "  <tbody>\n",
       "    <tr>\n",
       "      <th>0</th>\n",
       "      <td>8a11361964a7fff</td>\n",
       "      <td>104.144875</td>\n",
       "    </tr>\n",
       "    <tr>\n",
       "      <th>5</th>\n",
       "      <td>8a11350a5587fff</td>\n",
       "      <td>0.000000</td>\n",
       "    </tr>\n",
       "    <tr>\n",
       "      <th>8</th>\n",
       "      <td>8a1130b445b7fff</td>\n",
       "      <td>74.368828</td>\n",
       "    </tr>\n",
       "    <tr>\n",
       "      <th>9</th>\n",
       "      <td>8a1f658b6987fff</td>\n",
       "      <td>11.231266</td>\n",
       "    </tr>\n",
       "    <tr>\n",
       "      <th>10</th>\n",
       "      <td>8a1135833977fff</td>\n",
       "      <td>0.000000</td>\n",
       "    </tr>\n",
       "    <tr>\n",
       "      <th>...</th>\n",
       "      <td>...</td>\n",
       "      <td>...</td>\n",
       "    </tr>\n",
       "    <tr>\n",
       "      <th>13047580</th>\n",
       "      <td>8a089a6ac18ffff</td>\n",
       "      <td>23.684309</td>\n",
       "    </tr>\n",
       "    <tr>\n",
       "      <th>13047582</th>\n",
       "      <td>8a1f65224997fff</td>\n",
       "      <td>75.676384</td>\n",
       "    </tr>\n",
       "    <tr>\n",
       "      <th>13047584</th>\n",
       "      <td>8a089e520ba7fff</td>\n",
       "      <td>0.000000</td>\n",
       "    </tr>\n",
       "    <tr>\n",
       "      <th>13047585</th>\n",
       "      <td>8a089b7662b7fff</td>\n",
       "      <td>0.000000</td>\n",
       "    </tr>\n",
       "    <tr>\n",
       "      <th>13047586</th>\n",
       "      <td>8a1f64c54677fff</td>\n",
       "      <td>0.000000</td>\n",
       "    </tr>\n",
       "  </tbody>\n",
       "</table>\n",
       "<p>6077616 rows × 2 columns</p>\n",
       "</div>"
      ],
      "text/plain": [
       "                  cell_id   elevation\n",
       "0         8a11361964a7fff  104.144875\n",
       "5         8a11350a5587fff    0.000000\n",
       "8         8a1130b445b7fff   74.368828\n",
       "9         8a1f658b6987fff   11.231266\n",
       "10        8a1135833977fff    0.000000\n",
       "...                   ...         ...\n",
       "13047580  8a089a6ac18ffff   23.684309\n",
       "13047582  8a1f65224997fff   75.676384\n",
       "13047584  8a089e520ba7fff    0.000000\n",
       "13047585  8a089b7662b7fff    0.000000\n",
       "13047586  8a1f64c54677fff    0.000000\n",
       "\n",
       "[6077616 rows x 2 columns]"
      ]
     },
     "execution_count": 32,
     "metadata": {},
     "output_type": "execute_result"
    }
   ],
   "source": [
    "h3_el_10"
   ]
  },
  {
   "cell_type": "code",
   "execution_count": 55,
   "metadata": {},
   "outputs": [],
   "source": [
    "h3_el_8 = cell_h3_downsampling(h3_el_10,'cell_id','elevation',8,'numeric')"
   ]
  },
  {
   "cell_type": "markdown",
   "metadata": {},
   "source": [
    "### Population"
   ]
  },
  {
   "cell_type": "code",
   "execution_count": 56,
   "metadata": {},
   "outputs": [],
   "source": [
    "population = r\"d:\\UTCloud\\DGGS\\data\\EestiClipped\\population\\est_ppp_2020_1km_Aggregated.tif\""
   ]
  },
  {
   "cell_type": "code",
   "execution_count": 57,
   "metadata": {},
   "outputs": [
    {
     "name": "stdout",
     "output_type": "stream",
     "text": [
      "Raster pixel size 926.624384998697\n",
      "8\n",
      "Start filling raster extent with h3 indexes at resolution 8\n",
      "Start getting raster values for hexes at resolution 8\n"
     ]
    }
   ],
   "source": [
    "h3_pop_8 = raster_to_h3(population, 'population', 8, 11, None, 2)"
   ]
  },
  {
   "cell_type": "markdown",
   "metadata": {},
   "source": [
    "### Precipitation"
   ]
  },
  {
   "cell_type": "code",
   "execution_count": 58,
   "metadata": {},
   "outputs": [],
   "source": [
    "percipitation = r'd:\\UTCloud\\DGGS\\data\\EestiClipped\\climate\\precipitation\\precipitationAnnual.tif'"
   ]
  },
  {
   "cell_type": "code",
   "execution_count": 59,
   "metadata": {},
   "outputs": [
    {
     "name": "stdout",
     "output_type": "stream",
     "text": [
      "Raster pixel size 926.624384998697\n",
      "8\n",
      "Start filling raster extent with h3 indexes at resolution 8\n",
      "Start getting raster values for hexes at resolution 8\n"
     ]
    }
   ],
   "source": [
    "h3_percip_8 = raster_to_h3(percipitation, 'percipitation', 8, 11, None, 2)"
   ]
  },
  {
   "cell_type": "markdown",
   "metadata": {},
   "source": [
    "### Temperature"
   ]
  },
  {
   "cell_type": "code",
   "execution_count": 34,
   "metadata": {},
   "outputs": [],
   "source": [
    "full_raster = rasterio.open(r'd:\\UTCloud\\DGGS\\data\\temperature\\CHELSA_temp10_01_1979-2013_V1.2_land.tif')"
   ]
  },
  {
   "cell_type": "code",
   "execution_count": 36,
   "metadata": {},
   "outputs": [
    {
     "data": {
      "text/plain": [
       "['extent_min']"
      ]
     },
     "execution_count": 36,
     "metadata": {},
     "output_type": "execute_result"
    }
   ],
   "source": [
    "fiona.listlayers(r'd:\\UTCloud\\DGGS\\data\\EestiClipped\\shapes\\extent.gpkg')"
   ]
  },
  {
   "cell_type": "code",
   "execution_count": 37,
   "metadata": {},
   "outputs": [],
   "source": [
    "clip_mask = gpd.read_file(r'd:\\UTCloud\\DGGS\\data\\EestiClipped\\shapes\\extent.gpkg', layer='extent_min')"
   ]
  },
  {
   "cell_type": "code",
   "execution_count": 38,
   "metadata": {},
   "outputs": [],
   "source": [
    "out_image, out_transform = mask(dataset=full_raster, shapes=clip_mask['geometry'], crop=True)"
   ]
  },
  {
   "cell_type": "code",
   "execution_count": 39,
   "metadata": {},
   "outputs": [],
   "source": [
    "out_meta = full_raster.meta.copy()"
   ]
  },
  {
   "cell_type": "code",
   "execution_count": 40,
   "metadata": {},
   "outputs": [],
   "source": [
    "out_meta.update({\"driver\": \"GTiff\",\"height\": out_image.shape[1],\"width\": out_image.shape[2],\"transform\": out_transform})"
   ]
  },
  {
   "cell_type": "code",
   "execution_count": 41,
   "metadata": {},
   "outputs": [],
   "source": [
    "with rasterio.open(r'd:\\UTCloud\\DGGS\\data\\EestiClipped\\climate\\temperature\\january_mean_temp.tif', \"w\", **out_meta) as dest:\n",
    "    dest.write(out_image)"
   ]
  },
  {
   "cell_type": "code",
   "execution_count": 263,
   "metadata": {},
   "outputs": [],
   "source": [
    "clipped_raster = rasterio.open(os.path.dirname(os.getcwd()) + r\"/data/eesti_clipped/small_extent/MeritDEM90m_clipped.tif\")"
   ]
  },
  {
   "cell_type": "code",
   "execution_count": 60,
   "metadata": {},
   "outputs": [],
   "source": [
    "temperature = r'd:\\UTCloud\\DGGS\\data\\EestiClipped\\climate\\temperature\\january_mean_temp.tif'"
   ]
  },
  {
   "cell_type": "code",
   "execution_count": 61,
   "metadata": {},
   "outputs": [
    {
     "name": "stdout",
     "output_type": "stream",
     "text": [
      "Raster pixel size 926.6243849972824\n",
      "8\n",
      "Start filling raster extent with h3 indexes at resolution 8\n",
      "Start getting raster values for hexes at resolution 8\n"
     ]
    }
   ],
   "source": [
    "h3_temp_8 = raster_to_h3(temperature, 'temperature', 8, 11, None, 2)"
   ]
  },
  {
   "cell_type": "markdown",
   "metadata": {},
   "source": [
    "### Corine"
   ]
  },
  {
   "cell_type": "code",
   "execution_count": 62,
   "metadata": {},
   "outputs": [],
   "source": [
    "corine = os.path.dirname(os.getcwd()) + r'\\data\\eesti_clipped\\land_cover\\CorineEestiWGS84.gpkg'"
   ]
  },
  {
   "cell_type": "code",
   "execution_count": 63,
   "metadata": {},
   "outputs": [
    {
     "name": "stdout",
     "output_type": "stream",
     "text": [
      "Start filling raster extent with h3 indexes at resolution 10\n"
     ]
    }
   ],
   "source": [
    "h3_cor_10 = vector_to_h3(corine,'code_18',10)"
   ]
  },
  {
   "cell_type": "code",
   "execution_count": 64,
   "metadata": {},
   "outputs": [],
   "source": [
    "h3_cor_8 = cell_h3_downsampling(h3_cor_10,'cell_id','code_18',8,'categorical')"
   ]
  },
  {
   "cell_type": "markdown",
   "metadata": {},
   "source": [
    "### Soils"
   ]
  },
  {
   "cell_type": "code",
   "execution_count": 46,
   "metadata": {},
   "outputs": [],
   "source": [
    "soils = r'd:\\UTCloud\\DGGS\\data\\soils\\Mullakaart.gpkg'"
   ]
  },
  {
   "cell_type": "code",
   "execution_count": 47,
   "metadata": {},
   "outputs": [
    {
     "name": "stdout",
     "output_type": "stream",
     "text": [
      "Start filling raster extent with h3 indexes at resolution 10\n"
     ]
    }
   ],
   "source": [
    "h3_soils_10 = vector_to_h3(soils,'Varv',10)"
   ]
  },
  {
   "cell_type": "code",
   "execution_count": 50,
   "metadata": {},
   "outputs": [],
   "source": [
    "del(h3_soils_10)"
   ]
  },
  {
   "cell_type": "code",
   "execution_count": 49,
   "metadata": {},
   "outputs": [],
   "source": [
    "h3_soils_8 = cell_h3_downsampling(h3_soils_10,'cell_id','Varv',8,'categorical')"
   ]
  },
  {
   "cell_type": "code",
   "execution_count": null,
   "metadata": {},
   "outputs": [],
   "source": [
    "h3_soils_8"
   ]
  },
  {
   "cell_type": "code",
   "execution_count": 45,
   "metadata": {},
   "outputs": [],
   "source": [
    "soils.to_crs('EPSG:4326').to_file(r'd:\\UTCloud\\DGGS\\data\\soils\\Mullakaart.gpkg',layer='soils',driver='GPKG')"
   ]
  },
  {
   "cell_type": "code",
   "execution_count": null,
   "metadata": {},
   "outputs": [],
   "source": []
  },
  {
   "cell_type": "markdown",
   "metadata": {},
   "source": [
    "### Merging everything together"
   ]
  },
  {
   "cell_type": "code",
   "execution_count": 65,
   "metadata": {},
   "outputs": [],
   "source": [
    "h3_el_8.merge(h3_cor_8,how='left').merge(h3_temp_8,how='left').merge(h3_percip_8,how='left').merge(h3_pop_8,how='left').fillna(0).merge(h3_soils_8,how='left').to_csv(r'd:\\UTCloud\\DGGS\\results\\aggregation_example\\h3_agg.csv',index=False)"
   ]
  },
  {
   "cell_type": "code",
   "execution_count": 141,
   "metadata": {},
   "outputs": [
    {
     "data": {
      "text/plain": [
       "124767"
      ]
     },
     "execution_count": 141,
     "metadata": {},
     "output_type": "execute_result"
    }
   ],
   "source": [
    "len(h3_eesti)"
   ]
  },
  {
   "cell_type": "code",
   "execution_count": 3,
   "metadata": {},
   "outputs": [],
   "source": [
    "h3_eesti = pd.read_csv(r'd:\\UTCloud\\DGGS\\results\\aggregation_example\\h3_agg.csv')"
   ]
  },
  {
   "cell_type": "code",
   "execution_count": 138,
   "metadata": {},
   "outputs": [],
   "source": [
    "example = h3_eesti[(h3_eesti['elevation']>0)&(h3_eesti['Varv']>0)].sample(10)"
   ]
  },
  {
   "cell_type": "code",
   "execution_count": 139,
   "metadata": {},
   "outputs": [],
   "source": [
    "example.columns = ['cell_id','elevation','land_cover','temperature','precipitation','population','soils']"
   ]
  },
  {
   "cell_type": "code",
   "execution_count": 140,
   "metadata": {},
   "outputs": [],
   "source": [
    "example.to_csv(r'd:\\UTCloud\\DGGS\\results\\aggregation_example\\example_table.csv', index=False)"
   ]
  },
  {
   "cell_type": "code",
   "execution_count": 149,
   "metadata": {},
   "outputs": [],
   "source": [
    "h3_eesti = h3_eesti.rename(columns={'percipitation':'precipitation'})"
   ]
  },
  {
   "cell_type": "code",
   "execution_count": 148,
   "metadata": {},
   "outputs": [
    {
     "data": {
      "text/html": [
       "<div>\n",
       "<style scoped>\n",
       "    .dataframe tbody tr th:only-of-type {\n",
       "        vertical-align: middle;\n",
       "    }\n",
       "\n",
       "    .dataframe tbody tr th {\n",
       "        vertical-align: top;\n",
       "    }\n",
       "\n",
       "    .dataframe thead th {\n",
       "        text-align: right;\n",
       "    }\n",
       "</style>\n",
       "<table border=\"1\" class=\"dataframe\">\n",
       "  <thead>\n",
       "    <tr style=\"text-align: right;\">\n",
       "      <th></th>\n",
       "      <th>cell_id</th>\n",
       "      <th>elevation</th>\n",
       "      <th>code_18</th>\n",
       "      <th>temperature</th>\n",
       "      <th>percipitation</th>\n",
       "      <th>population</th>\n",
       "      <th>Varv</th>\n",
       "    </tr>\n",
       "  </thead>\n",
       "  <tbody>\n",
       "    <tr>\n",
       "      <th>0</th>\n",
       "      <td>8808932091fffff</td>\n",
       "      <td>0.000000</td>\n",
       "      <td>523</td>\n",
       "      <td>0.0</td>\n",
       "      <td>0.0</td>\n",
       "      <td>0.000000</td>\n",
       "      <td>21.0</td>\n",
       "    </tr>\n",
       "    <tr>\n",
       "      <th>1</th>\n",
       "      <td>8808932093fffff</td>\n",
       "      <td>0.000000</td>\n",
       "      <td>523</td>\n",
       "      <td>0.0</td>\n",
       "      <td>0.0</td>\n",
       "      <td>0.000000</td>\n",
       "      <td>21.0</td>\n",
       "    </tr>\n",
       "    <tr>\n",
       "      <th>2</th>\n",
       "      <td>8808932095fffff</td>\n",
       "      <td>0.000000</td>\n",
       "      <td>523</td>\n",
       "      <td>0.0</td>\n",
       "      <td>0.0</td>\n",
       "      <td>0.000000</td>\n",
       "      <td>21.0</td>\n",
       "    </tr>\n",
       "    <tr>\n",
       "      <th>3</th>\n",
       "      <td>8808932097fffff</td>\n",
       "      <td>0.000000</td>\n",
       "      <td>523</td>\n",
       "      <td>0.0</td>\n",
       "      <td>0.0</td>\n",
       "      <td>0.000000</td>\n",
       "      <td>21.0</td>\n",
       "    </tr>\n",
       "    <tr>\n",
       "      <th>4</th>\n",
       "      <td>8808932099fffff</td>\n",
       "      <td>0.000000</td>\n",
       "      <td>523</td>\n",
       "      <td>0.0</td>\n",
       "      <td>0.0</td>\n",
       "      <td>0.000000</td>\n",
       "      <td>21.0</td>\n",
       "    </tr>\n",
       "    <tr>\n",
       "      <th>...</th>\n",
       "      <td>...</td>\n",
       "      <td>...</td>\n",
       "      <td>...</td>\n",
       "      <td>...</td>\n",
       "      <td>...</td>\n",
       "      <td>...</td>\n",
       "      <td>...</td>\n",
       "    </tr>\n",
       "    <tr>\n",
       "      <th>124762</th>\n",
       "      <td>881f6c9365fffff</td>\n",
       "      <td>167.011547</td>\n",
       "      <td>312</td>\n",
       "      <td>-55.0</td>\n",
       "      <td>632.0</td>\n",
       "      <td>0.000000</td>\n",
       "      <td>5.0</td>\n",
       "    </tr>\n",
       "    <tr>\n",
       "      <th>124763</th>\n",
       "      <td>881f6c9367fffff</td>\n",
       "      <td>163.201012</td>\n",
       "      <td>311</td>\n",
       "      <td>-54.0</td>\n",
       "      <td>625.0</td>\n",
       "      <td>0.000000</td>\n",
       "      <td>5.0</td>\n",
       "    </tr>\n",
       "    <tr>\n",
       "      <th>124764</th>\n",
       "      <td>881f6c9369fffff</td>\n",
       "      <td>162.002986</td>\n",
       "      <td>311</td>\n",
       "      <td>-54.0</td>\n",
       "      <td>627.0</td>\n",
       "      <td>0.027659</td>\n",
       "      <td>1.0</td>\n",
       "    </tr>\n",
       "    <tr>\n",
       "      <th>124765</th>\n",
       "      <td>881f6c936bfffff</td>\n",
       "      <td>160.834662</td>\n",
       "      <td>243</td>\n",
       "      <td>-54.0</td>\n",
       "      <td>626.0</td>\n",
       "      <td>0.000000</td>\n",
       "      <td>6.0</td>\n",
       "    </tr>\n",
       "    <tr>\n",
       "      <th>124766</th>\n",
       "      <td>881f6c936dfffff</td>\n",
       "      <td>170.212668</td>\n",
       "      <td>313</td>\n",
       "      <td>-55.0</td>\n",
       "      <td>632.0</td>\n",
       "      <td>0.000000</td>\n",
       "      <td>5.0</td>\n",
       "    </tr>\n",
       "  </tbody>\n",
       "</table>\n",
       "<p>124767 rows × 7 columns</p>\n",
       "</div>"
      ],
      "text/plain": [
       "                cell_id   elevation  code_18  temperature  percipitation  \\\n",
       "0       8808932091fffff    0.000000      523          0.0            0.0   \n",
       "1       8808932093fffff    0.000000      523          0.0            0.0   \n",
       "2       8808932095fffff    0.000000      523          0.0            0.0   \n",
       "3       8808932097fffff    0.000000      523          0.0            0.0   \n",
       "4       8808932099fffff    0.000000      523          0.0            0.0   \n",
       "...                 ...         ...      ...          ...            ...   \n",
       "124762  881f6c9365fffff  167.011547      312        -55.0          632.0   \n",
       "124763  881f6c9367fffff  163.201012      311        -54.0          625.0   \n",
       "124764  881f6c9369fffff  162.002986      311        -54.0          627.0   \n",
       "124765  881f6c936bfffff  160.834662      243        -54.0          626.0   \n",
       "124766  881f6c936dfffff  170.212668      313        -55.0          632.0   \n",
       "\n",
       "        population  Varv  \n",
       "0         0.000000  21.0  \n",
       "1         0.000000  21.0  \n",
       "2         0.000000  21.0  \n",
       "3         0.000000  21.0  \n",
       "4         0.000000  21.0  \n",
       "...            ...   ...  \n",
       "124762    0.000000   5.0  \n",
       "124763    0.000000   5.0  \n",
       "124764    0.027659   1.0  \n",
       "124765    0.000000   6.0  \n",
       "124766    0.000000   5.0  \n",
       "\n",
       "[124767 rows x 7 columns]"
      ]
     },
     "execution_count": 148,
     "metadata": {},
     "output_type": "execute_result"
    }
   ],
   "source": [
    "h3_eesti"
   ]
  },
  {
   "cell_type": "code",
   "execution_count": 153,
   "metadata": {},
   "outputs": [
    {
     "name": "stderr",
     "output_type": "stream",
     "text": [
      "C:\\Users\\Iam\\Anaconda3\\envs\\dggs\\lib\\site-packages\\ipykernel_launcher.py:1: RuntimeWarning: More than 20 figures have been opened. Figures created through the pyplot interface (`matplotlib.pyplot.figure`) are retained until explicitly closed and may consume too much memory. (To control this warning, see the rcParam `figure.max_open_warning`).\n",
      "  \"\"\"Entry point for launching an IPython kernel.\n"
     ]
    },
    {
     "data": {
      "application/vnd.jupyter.widget-view+json": {
       "model_id": "810902e1366e4fe6929278dc548a3995",
       "version_major": 2,
       "version_minor": 0
      },
      "text/plain": [
       "Canvas(toolbar=Toolbar(toolitems=[('Home', 'Reset original view', 'home', 'home'), ('Back', 'Back to previous …"
      ]
     },
     "metadata": {},
     "output_type": "display_data"
    }
   ],
   "source": [
    "fig, ax = plt.subplots(figsize=(10,5))\n",
    "sns.regplot(data=h3_eesti[h3_eesti['precipitation']>0],x='elevation', y='precipitation', ax=ax,scatter_kws={\"s\": 10},line_kws={'color':'r'})\n",
    "ax.tick_params(axis='both', which='major', labelsize=12)\n",
    "ax.set_xlabel('Elevation', fontsize=12)\n",
    "ax.set_ylabel('Precipitation', fontsize=12)\n",
    "#ax.set_title('Relation between elevation and precipitation', fontsize=14)\n",
    "plt.tight_layout()\n",
    "plt.savefig(r'd:\\UTCloud\\DGGS\\results\\aggregation_example\\scatterplot.png', bbox_inches=\"tight\",dpi=300)"
   ]
  },
  {
   "cell_type": "code",
   "execution_count": 71,
   "metadata": {},
   "outputs": [],
   "source": [
    "intervals = mc.EqualInterval(h3_eesti['elevation'],10)"
   ]
  },
  {
   "cell_type": "code",
   "execution_count": 72,
   "metadata": {},
   "outputs": [],
   "source": [
    "h3_eesti['elevation_classes'] = h3_eesti[['elevation']].apply(intervals)"
   ]
  },
  {
   "cell_type": "code",
   "execution_count": 123,
   "metadata": {},
   "outputs": [
    {
     "data": {
      "application/vnd.jupyter.widget-view+json": {
       "model_id": "9ee955726ce547a0b9565c6832e45c3a",
       "version_major": 2,
       "version_minor": 0
      },
      "text/plain": [
       "Canvas(toolbar=Toolbar(toolitems=[('Home', 'Reset original view', 'home', 'home'), ('Back', 'Back to previous …"
      ]
     },
     "metadata": {},
     "output_type": "display_data"
    }
   ],
   "source": [
    "fig, ax = plt.subplots(figsize=(10,5))\n",
    "h3_eesti.groupby('elevation_classes')['population'].sum().plot(kind='bar',ax=ax)\n",
    "ax.tick_params(axis='both', which='major', labelsize=12)\n",
    "ax.set_xlabel('Elevation, m', fontsize=12)\n",
    "ax.set_ylabel('Population', fontsize=12)\n",
    "ax.set_xticklabels(intervals.get_legend_classes(), fontsize=10)\n",
    "ax.set_title('', fontsize=14)\n",
    "plt.tight_layout()\n",
    "plt.savefig(r'd:\\UTCloud\\DGGS\\results\\aggregation_example\\elevation_population.png', bbox_inches=\"tight\",dpi=300)"
   ]
  },
  {
   "cell_type": "code",
   "execution_count": 4,
   "metadata": {},
   "outputs": [],
   "source": [
    "h3_eesti = create_h3_geometry(h3_eesti)"
   ]
  },
  {
   "cell_type": "code",
   "execution_count": 6,
   "metadata": {},
   "outputs": [],
   "source": [
    "h3_eesti.to_file(r'd:\\UTCloud\\DGGS\\results\\aggregation_example\\example_table.geojson',driver='GeoJSON')"
   ]
  },
  {
   "cell_type": "code",
   "execution_count": 8,
   "metadata": {},
   "outputs": [
    {
     "data": {
      "text/plain": [
       "<AxesSubplot:>"
      ]
     },
     "execution_count": 8,
     "metadata": {},
     "output_type": "execute_result"
    },
    {
     "data": {
      "image/png": "[encoded data removed]",
      "text/plain": [
       "<Figure size 432x288 with 1 Axes>"
      ]
     },
     "metadata": {
      "needs_background": "light"
     },
     "output_type": "display_data"
    }
   ],
   "source": [
    "h3_eesti.plot(column='temperature')"
   ]
  }
 ],
 "metadata": {
  "kernelspec": {
   "display_name": "Python 3",
   "language": "python",
   "name": "python3"
  },
  "language_info": {
   "codemirror_mode": {
    "name": "ipython",
    "version": 3
   },
   "file_extension": ".py",
   "mimetype": "text/x-python",
   "name": "python",
   "nbconvert_exporter": "python",
   "pygments_lexer": "ipython3",
   "version": "3.7.8"
  }
 },
 "nbformat": 4,
 "nbformat_minor": 4
}
