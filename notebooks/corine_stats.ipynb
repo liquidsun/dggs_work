{
 "cells": [
  {
   "cell_type": "code",
   "execution_count": 1,
   "metadata": {},
   "outputs": [],
   "source": [
    "%matplotlib ipympl"
   ]
  },
  {
   "cell_type": "code",
   "execution_count": 2,
   "metadata": {},
   "outputs": [],
   "source": [
    "import sys\n",
    "import os\n",
    "import matplotlib.pyplot as plt\n",
    "sys.path.append('..')\n",
    "from h3_helper import *\n",
    "from s2_helper import *\n",
    "from eaggr_helper import *\n",
    "import pyproj"
   ]
  },
  {
   "cell_type": "code",
   "execution_count": 3,
   "metadata": {},
   "outputs": [],
   "source": [
    "vector = os.path.dirname(os.getcwd()) + r'\\data\\eesti_clipped\\land_cover\\CorineEestiWGS84.gpkg'"
   ]
  },
  {
   "cell_type": "code",
   "execution_count": 4,
   "metadata": {},
   "outputs": [],
   "source": [
    "corine_legend = pd.read_pickle(os.path.dirname(os.getcwd()) + r'/data/eesti_clipped/land_cover/corine_legend.pkl')"
   ]
  },
  {
   "cell_type": "code",
   "execution_count": 5,
   "metadata": {},
   "outputs": [],
   "source": [
    "corine_legend['CLC_CODE'] = corine_legend['CLC_CODE'].astype('str')"
   ]
  },
  {
   "cell_type": "code",
   "execution_count": 6,
   "metadata": {},
   "outputs": [],
   "source": [
    "corine_original = gpd.read_file(vector)\n",
    "corine_original['code_18'] = corine_original['code_18'].astype('str')\n",
    "corine_original.crs = 'EPSG:4326'"
   ]
  },
  {
   "cell_type": "code",
   "execution_count": 7,
   "metadata": {},
   "outputs": [],
   "source": [
    "corine_original = corine_original.merge(corine_legend[['CLC_CODE','LABEL3']], left_on='code_18', right_on='CLC_CODE')"
   ]
  },
  {
   "cell_type": "code",
   "execution_count": 8,
   "metadata": {},
   "outputs": [],
   "source": [
    "corine_clipped = gpd.clip(corine_original,box(26.521263, 58.283163, 26.900083, 58.505180))"
   ]
  },
  {
   "cell_type": "code",
   "execution_count": 9,
   "metadata": {},
   "outputs": [],
   "source": [
    "corine_clipped = corine_clipped.to_crs('EPSG:3301')"
   ]
  },
  {
   "cell_type": "code",
   "execution_count": 10,
   "metadata": {},
   "outputs": [],
   "source": [
    "corine_clipped['area_original_from_geom'] = corine_clipped['geometry'].area/10000"
   ]
  },
  {
   "cell_type": "markdown",
   "metadata": {},
   "source": [
    "#### H3"
   ]
  },
  {
   "cell_type": "markdown",
   "metadata": {},
   "source": [
    "#### Injest corine vector at resolution 11, consequently downsample to resolution 8"
   ]
  },
  {
   "cell_type": "code",
   "execution_count": 11,
   "metadata": {
    "collapsed": true,
    "jupyter": {
     "outputs_hidden": true
    }
   },
   "outputs": [
    {
     "name": "stdout",
     "output_type": "stream",
     "text": [
      "Start filling raster extent with h3 indexes at resolution 11\n"
     ]
    }
   ],
   "source": [
    "h3_cor_11 = vector_to_h3(vector,'code_18',11,[26.521263, 58.283163, 26.900083, 58.505180])\n",
    "h3_cor_11 = create_h3_geometry(h3_cor_11)"
   ]
  },
  {
   "cell_type": "code",
   "execution_count": 12,
   "metadata": {},
   "outputs": [],
   "source": [
    "h3_cor_11 = h3_cor_11.to_crs('EPSG:3301')\n",
    "h3_cor_11['area_h3_from_geom'] = h3_cor_11['geometry'].area/10000"
   ]
  },
  {
   "cell_type": "code",
   "execution_count": 13,
   "metadata": {},
   "outputs": [],
   "source": [
    "h3_cor_10 = cell_h3_downsampling(h3_cor_11,'cell_id','code_18',10,'categorical')\n",
    "h3_cor_10 = create_h3_geometry(h3_cor_10)"
   ]
  },
  {
   "cell_type": "code",
   "execution_count": 14,
   "metadata": {},
   "outputs": [],
   "source": [
    "h3_cor_10 = h3_cor_10.to_crs('EPSG:3301')\n",
    "h3_cor_10['area_h3_from_geom'] = h3_cor_10['geometry'].area/10000"
   ]
  },
  {
   "cell_type": "code",
   "execution_count": 15,
   "metadata": {},
   "outputs": [],
   "source": [
    "h3_cor_9 = cell_h3_downsampling(h3_cor_11,'cell_id','code_18',9,'categorical')\n",
    "h3_cor_9 = create_h3_geometry(h3_cor_9)"
   ]
  },
  {
   "cell_type": "code",
   "execution_count": 16,
   "metadata": {},
   "outputs": [],
   "source": [
    "h3_cor_9 = h3_cor_9.to_crs('EPSG:3301')\n",
    "h3_cor_9['area_h3_from_geom'] = h3_cor_9['geometry'].area/10000"
   ]
  },
  {
   "cell_type": "markdown",
   "metadata": {},
   "source": [
    "#### Calculate areal differences"
   ]
  },
  {
   "cell_type": "code",
   "execution_count": 18,
   "metadata": {},
   "outputs": [],
   "source": [
    "cor_11_grouped = h3_cor_11.groupby('code_18').count().reset_index()"
   ]
  },
  {
   "cell_type": "code",
   "execution_count": 19,
   "metadata": {},
   "outputs": [],
   "source": [
    "cor_11_grouped['area_h3_from_cells_meth'] = (cor_11_grouped['cell_id']*h3.hex_area(11,'m^2'))/10000"
   ]
  },
  {
   "cell_type": "code",
   "execution_count": 20,
   "metadata": {},
   "outputs": [],
   "source": [
    "cor_11_grouped['area_h3_from_cells_calc'] = (cor_11_grouped['cell_id']*h3_cor_11['geometry'][0].area)/10000"
   ]
  },
  {
   "cell_type": "code",
   "execution_count": 21,
   "metadata": {},
   "outputs": [],
   "source": [
    "for_graph = cor_11_grouped.merge(corine_clipped.groupby('code_18',as_index=False)['area_original_from_geom'].sum().reset_index(drop=True), on='code_18').\\\n",
    "merge(h3_cor_11.groupby('code_18',as_index=False)['area_h3_from_geom'].sum(), on = 'code_18')"
   ]
  },
  {
   "cell_type": "code",
   "execution_count": 22,
   "metadata": {},
   "outputs": [
    {
     "data": {
      "text/html": [
       "<div>\n",
       "<style scoped>\n",
       "    .dataframe tbody tr th:only-of-type {\n",
       "        vertical-align: middle;\n",
       "    }\n",
       "\n",
       "    .dataframe tbody tr th {\n",
       "        vertical-align: top;\n",
       "    }\n",
       "\n",
       "    .dataframe thead th {\n",
       "        text-align: right;\n",
       "    }\n",
       "</style>\n",
       "<table border=\"1\" class=\"dataframe\">\n",
       "  <thead>\n",
       "    <tr style=\"text-align: right;\">\n",
       "      <th></th>\n",
       "      <th>code_18</th>\n",
       "      <th>cell_id</th>\n",
       "      <th>geometry</th>\n",
       "      <th>area_h3_from_geom_x</th>\n",
       "      <th>area_h3_from_cells_meth</th>\n",
       "      <th>area_h3_from_cells_calc</th>\n",
       "      <th>area_original_from_geom</th>\n",
       "      <th>area_h3_from_geom_y</th>\n",
       "    </tr>\n",
       "  </thead>\n",
       "  <tbody>\n",
       "    <tr>\n",
       "      <th>0</th>\n",
       "      <td>111</td>\n",
       "      <td>302</td>\n",
       "      <td>302</td>\n",
       "      <td>302</td>\n",
       "      <td>64.91792</td>\n",
       "      <td>52.070195</td>\n",
       "      <td>51.456504</td>\n",
       "      <td>52.059825</td>\n",
       "    </tr>\n",
       "    <tr>\n",
       "      <th>1</th>\n",
       "      <td>112</td>\n",
       "      <td>19030</td>\n",
       "      <td>19030</td>\n",
       "      <td>19030</td>\n",
       "      <td>4090.68880</td>\n",
       "      <td>3281.111958</td>\n",
       "      <td>3281.158992</td>\n",
       "      <td>3280.257216</td>\n",
       "    </tr>\n",
       "    <tr>\n",
       "      <th>2</th>\n",
       "      <td>121</td>\n",
       "      <td>7124</td>\n",
       "      <td>7124</td>\n",
       "      <td>7124</td>\n",
       "      <td>1531.37504</td>\n",
       "      <td>1228.304865</td>\n",
       "      <td>1226.108209</td>\n",
       "      <td>1228.289192</td>\n",
       "    </tr>\n",
       "    <tr>\n",
       "      <th>3</th>\n",
       "      <td>122</td>\n",
       "      <td>1271</td>\n",
       "      <td>1271</td>\n",
       "      <td>1271</td>\n",
       "      <td>273.21416</td>\n",
       "      <td>219.143106</td>\n",
       "      <td>218.260755</td>\n",
       "      <td>218.918665</td>\n",
       "    </tr>\n",
       "    <tr>\n",
       "      <th>4</th>\n",
       "      <td>124</td>\n",
       "      <td>3251</td>\n",
       "      <td>3251</td>\n",
       "      <td>3251</td>\n",
       "      <td>698.83496</td>\n",
       "      <td>560.530477</td>\n",
       "      <td>562.064793</td>\n",
       "      <td>560.743815</td>\n",
       "    </tr>\n",
       "    <tr>\n",
       "      <th>5</th>\n",
       "      <td>131</td>\n",
       "      <td>257</td>\n",
       "      <td>257</td>\n",
       "      <td>257</td>\n",
       "      <td>55.24472</td>\n",
       "      <td>44.311391</td>\n",
       "      <td>43.704139</td>\n",
       "      <td>44.327494</td>\n",
       "    </tr>\n",
       "    <tr>\n",
       "      <th>6</th>\n",
       "      <td>133</td>\n",
       "      <td>507</td>\n",
       "      <td>507</td>\n",
       "      <td>507</td>\n",
       "      <td>108.98472</td>\n",
       "      <td>87.415857</td>\n",
       "      <td>86.518288</td>\n",
       "      <td>87.336003</td>\n",
       "    </tr>\n",
       "    <tr>\n",
       "      <th>7</th>\n",
       "      <td>141</td>\n",
       "      <td>683</td>\n",
       "      <td>683</td>\n",
       "      <td>683</td>\n",
       "      <td>146.81768</td>\n",
       "      <td>117.761401</td>\n",
       "      <td>117.679572</td>\n",
       "      <td>117.749583</td>\n",
       "    </tr>\n",
       "    <tr>\n",
       "      <th>8</th>\n",
       "      <td>142</td>\n",
       "      <td>616</td>\n",
       "      <td>616</td>\n",
       "      <td>616</td>\n",
       "      <td>132.41536</td>\n",
       "      <td>106.209404</td>\n",
       "      <td>106.537227</td>\n",
       "      <td>106.149494</td>\n",
       "    </tr>\n",
       "    <tr>\n",
       "      <th>9</th>\n",
       "      <td>211</td>\n",
       "      <td>104695</td>\n",
       "      <td>104695</td>\n",
       "      <td>104695</td>\n",
       "      <td>22505.23720</td>\n",
       "      <td>18051.288302</td>\n",
       "      <td>18041.234621</td>\n",
       "      <td>18041.405516</td>\n",
       "    </tr>\n",
       "    <tr>\n",
       "      <th>10</th>\n",
       "      <td>222</td>\n",
       "      <td>1204</td>\n",
       "      <td>1204</td>\n",
       "      <td>1204</td>\n",
       "      <td>258.81184</td>\n",
       "      <td>207.591109</td>\n",
       "      <td>208.500399</td>\n",
       "      <td>207.398650</td>\n",
       "    </tr>\n",
       "    <tr>\n",
       "      <th>11</th>\n",
       "      <td>231</td>\n",
       "      <td>18440</td>\n",
       "      <td>18440</td>\n",
       "      <td>18440</td>\n",
       "      <td>3963.86240</td>\n",
       "      <td>3179.385418</td>\n",
       "      <td>3178.768428</td>\n",
       "      <td>3179.723399</td>\n",
       "    </tr>\n",
       "    <tr>\n",
       "      <th>12</th>\n",
       "      <td>242</td>\n",
       "      <td>38445</td>\n",
       "      <td>38445</td>\n",
       "      <td>38445</td>\n",
       "      <td>8264.13720</td>\n",
       "      <td>6628.604793</td>\n",
       "      <td>6629.849351</td>\n",
       "      <td>6627.757066</td>\n",
       "    </tr>\n",
       "    <tr>\n",
       "      <th>13</th>\n",
       "      <td>243</td>\n",
       "      <td>20664</td>\n",
       "      <td>20664</td>\n",
       "      <td>20664</td>\n",
       "      <td>4441.93344</td>\n",
       "      <td>3562.842748</td>\n",
       "      <td>3562.328202</td>\n",
       "      <td>3562.220030</td>\n",
       "    </tr>\n",
       "    <tr>\n",
       "      <th>14</th>\n",
       "      <td>311</td>\n",
       "      <td>11731</td>\n",
       "      <td>11731</td>\n",
       "      <td>11731</td>\n",
       "      <td>2521.69576</td>\n",
       "      <td>2022.633966</td>\n",
       "      <td>2017.882928</td>\n",
       "      <td>2021.545535</td>\n",
       "    </tr>\n",
       "    <tr>\n",
       "      <th>15</th>\n",
       "      <td>312</td>\n",
       "      <td>16887</td>\n",
       "      <td>16887</td>\n",
       "      <td>16887</td>\n",
       "      <td>3630.02952</td>\n",
       "      <td>2911.620474</td>\n",
       "      <td>2910.095577</td>\n",
       "      <td>2911.642203</td>\n",
       "    </tr>\n",
       "    <tr>\n",
       "      <th>16</th>\n",
       "      <td>313</td>\n",
       "      <td>42535</td>\n",
       "      <td>42535</td>\n",
       "      <td>42535</td>\n",
       "      <td>9143.32360</td>\n",
       "      <td>7333.793858</td>\n",
       "      <td>7329.537946</td>\n",
       "      <td>7326.320374</td>\n",
       "    </tr>\n",
       "    <tr>\n",
       "      <th>17</th>\n",
       "      <td>321</td>\n",
       "      <td>936</td>\n",
       "      <td>936</td>\n",
       "      <td>936</td>\n",
       "      <td>201.20256</td>\n",
       "      <td>161.383121</td>\n",
       "      <td>160.899217</td>\n",
       "      <td>160.867770</td>\n",
       "    </tr>\n",
       "    <tr>\n",
       "      <th>18</th>\n",
       "      <td>324</td>\n",
       "      <td>21852</td>\n",
       "      <td>21852</td>\n",
       "      <td>21852</td>\n",
       "      <td>4697.30592</td>\n",
       "      <td>3767.675171</td>\n",
       "      <td>3764.568481</td>\n",
       "      <td>3764.346511</td>\n",
       "    </tr>\n",
       "    <tr>\n",
       "      <th>19</th>\n",
       "      <td>411</td>\n",
       "      <td>2301</td>\n",
       "      <td>2301</td>\n",
       "      <td>2301</td>\n",
       "      <td>494.62296</td>\n",
       "      <td>396.733506</td>\n",
       "      <td>395.806925</td>\n",
       "      <td>396.887340</td>\n",
       "    </tr>\n",
       "    <tr>\n",
       "      <th>20</th>\n",
       "      <td>412</td>\n",
       "      <td>1572</td>\n",
       "      <td>1572</td>\n",
       "      <td>1572</td>\n",
       "      <td>337.91712</td>\n",
       "      <td>271.040883</td>\n",
       "      <td>271.710624</td>\n",
       "      <td>271.070829</td>\n",
       "    </tr>\n",
       "    <tr>\n",
       "      <th>21</th>\n",
       "      <td>511</td>\n",
       "      <td>1581</td>\n",
       "      <td>1581</td>\n",
       "      <td>1581</td>\n",
       "      <td>339.85176</td>\n",
       "      <td>272.592643</td>\n",
       "      <td>273.860390</td>\n",
       "      <td>272.809354</td>\n",
       "    </tr>\n",
       "    <tr>\n",
       "      <th>22</th>\n",
       "      <td>512</td>\n",
       "      <td>1972</td>\n",
       "      <td>1972</td>\n",
       "      <td>1972</td>\n",
       "      <td>423.90112</td>\n",
       "      <td>340.008028</td>\n",
       "      <td>340.579043</td>\n",
       "      <td>339.661499</td>\n",
       "    </tr>\n",
       "  </tbody>\n",
       "</table>\n",
       "</div>"
      ],
      "text/plain": [
       "   code_18  cell_id  geometry  area_h3_from_geom_x  area_h3_from_cells_meth  \\\n",
       "0      111      302       302                  302                 64.91792   \n",
       "1      112    19030     19030                19030               4090.68880   \n",
       "2      121     7124      7124                 7124               1531.37504   \n",
       "3      122     1271      1271                 1271                273.21416   \n",
       "4      124     3251      3251                 3251                698.83496   \n",
       "5      131      257       257                  257                 55.24472   \n",
       "6      133      507       507                  507                108.98472   \n",
       "7      141      683       683                  683                146.81768   \n",
       "8      142      616       616                  616                132.41536   \n",
       "9      211   104695    104695               104695              22505.23720   \n",
       "10     222     1204      1204                 1204                258.81184   \n",
       "11     231    18440     18440                18440               3963.86240   \n",
       "12     242    38445     38445                38445               8264.13720   \n",
       "13     243    20664     20664                20664               4441.93344   \n",
       "14     311    11731     11731                11731               2521.69576   \n",
       "15     312    16887     16887                16887               3630.02952   \n",
       "16     313    42535     42535                42535               9143.32360   \n",
       "17     321      936       936                  936                201.20256   \n",
       "18     324    21852     21852                21852               4697.30592   \n",
       "19     411     2301      2301                 2301                494.62296   \n",
       "20     412     1572      1572                 1572                337.91712   \n",
       "21     511     1581      1581                 1581                339.85176   \n",
       "22     512     1972      1972                 1972                423.90112   \n",
       "\n",
       "    area_h3_from_cells_calc  area_original_from_geom  area_h3_from_geom_y  \n",
       "0                 52.070195                51.456504            52.059825  \n",
       "1               3281.111958              3281.158992          3280.257216  \n",
       "2               1228.304865              1226.108209          1228.289192  \n",
       "3                219.143106               218.260755           218.918665  \n",
       "4                560.530477               562.064793           560.743815  \n",
       "5                 44.311391                43.704139            44.327494  \n",
       "6                 87.415857                86.518288            87.336003  \n",
       "7                117.761401               117.679572           117.749583  \n",
       "8                106.209404               106.537227           106.149494  \n",
       "9              18051.288302             18041.234621         18041.405516  \n",
       "10               207.591109               208.500399           207.398650  \n",
       "11              3179.385418              3178.768428          3179.723399  \n",
       "12              6628.604793              6629.849351          6627.757066  \n",
       "13              3562.842748              3562.328202          3562.220030  \n",
       "14              2022.633966              2017.882928          2021.545535  \n",
       "15              2911.620474              2910.095577          2911.642203  \n",
       "16              7333.793858              7329.537946          7326.320374  \n",
       "17               161.383121               160.899217           160.867770  \n",
       "18              3767.675171              3764.568481          3764.346511  \n",
       "19               396.733506               395.806925           396.887340  \n",
       "20               271.040883               271.710624           271.070829  \n",
       "21               272.592643               273.860390           272.809354  \n",
       "22               340.008028               340.579043           339.661499  "
      ]
     },
     "execution_count": 22,
     "metadata": {},
     "output_type": "execute_result"
    }
   ],
   "source": [
    "for_graph"
   ]
  },
  {
   "cell_type": "markdown",
   "metadata": {},
   "source": [
    "## Put as illustration about h3 internal function for calculating area"
   ]
  },
  {
   "cell_type": "code",
   "execution_count": 71,
   "metadata": {},
   "outputs": [
    {
     "data": {
      "image/png": "[encoded data removed]",
      "text/plain": [
       "<Figure size 576x360 with 1 Axes>"
      ]
     },
     "metadata": {
      "needs_background": "light"
     },
     "output_type": "display_data"
    }
   ],
   "source": [
    "fig, ax = plt.subplots(figsize=(8,5))\n",
    "for_graph[['code_18','area_h3_from_cells',\n",
    "       'area_original_from_geom', 'area_h3_from_geom_y','area_h3_from_cells_calc']].plot(ax=ax, x='code_18', kind='bar', width=0.9)\n",
    "ax.set(title = 'res 11',\n",
    "ylabel = 'area, ha')\n",
    "plt.tight_layout()"
   ]
  },
  {
   "cell_type": "code",
   "execution_count": 63,
   "metadata": {
    "collapsed": true,
    "jupyter": {
     "outputs_hidden": true
    }
   },
   "outputs": [
    {
     "data": {
      "image/png": "[encoded data removed]",
      "text/plain": [
       "<Figure size 576x360 with 1 Axes>"
      ]
     },
     "metadata": {
      "needs_background": "light"
     },
     "output_type": "display_data"
    }
   ],
   "source": [
    "fig, ax = plt.subplots(figsize=(8,5))\n",
    "corine_clipped.groupby('code_18',as_index=False)['area_original_from_geom'].sum().reset_index(drop=True).\\\n",
    "merge(h3_cor_10.groupby('code_18',as_index=False)['area_h3_from_geom'].sum(), on = 'code_18')[['code_18',\n",
    "       'area_original_from_geom', 'area_h3_from_geom']].plot(ax=ax, x='code_18', kind='bar', width=0.9)\n",
    "ax.set(title = 'res 10',\n",
    "ylabel = 'area, ha')\n",
    "plt.tight_layout()"
   ]
  },
  {
   "cell_type": "code",
   "execution_count": 64,
   "metadata": {
    "collapsed": true,
    "jupyter": {
     "outputs_hidden": true
    }
   },
   "outputs": [
    {
     "data": {
      "image/png": "[encoded data removed]",
      "text/plain": [
       "<Figure size 576x360 with 1 Axes>"
      ]
     },
     "metadata": {
      "needs_background": "light"
     },
     "output_type": "display_data"
    }
   ],
   "source": [
    "fig, ax = plt.subplots(figsize=(8,5))\n",
    "corine_clipped.groupby('code_18',as_index=False)['area_original_from_geom'].sum().reset_index(drop=True).\\\n",
    "merge(h3_cor_9.groupby('code_18',as_index=False)['area_h3_from_geom'].sum(), on = 'code_18')[['code_18',\n",
    "       'area_original_from_geom', 'area_h3_from_geom']].plot(ax=ax, x='code_18', kind='bar', width=0.9)\n",
    "ax.set(title = 'res 9',\n",
    "ylabel = 'area, ha')\n",
    "plt.tight_layout()"
   ]
  },
  {
   "cell_type": "markdown",
   "metadata": {},
   "source": [
    "### s2"
   ]
  },
  {
   "cell_type": "code",
   "execution_count": 63,
   "metadata": {},
   "outputs": [
    {
     "name": "stdout",
     "output_type": "stream",
     "text": [
      "Start filling raster extent with s2 indexes at resolution 18\n"
     ]
    }
   ],
   "source": [
    "s2_cor_18 = vector_to_s2(vector,'code_18',18,[26.521263, 58.283163, 26.900083, 58.505180])\n",
    "s2_cor_18 = create_s2_geometry(s2_cor_18)\n",
    "s2_cor_18 = s2_cor_18.to_crs('EPSG:3301')\n",
    "s2_cor_18['area_s2_from_geom'] = s2_cor_18['geometry'].area/10000"
   ]
  },
  {
   "cell_type": "code",
   "execution_count": 64,
   "metadata": {},
   "outputs": [],
   "source": [
    "s2_cor_17 = cell_s2_downsampling(s2_cor_18,'cell_id','code_18',17,'categorical')\n",
    "s2_cor_17 = create_s2_geometry(s2_cor_17)\n",
    "s2_cor_17 = s2_cor_17.to_crs('EPSG:3301')\n",
    "s2_cor_17['area_s2_from_geom'] = s2_cor_17['geometry'].area/10000"
   ]
  },
  {
   "cell_type": "code",
   "execution_count": 65,
   "metadata": {},
   "outputs": [],
   "source": [
    "s2_cor_16 = cell_s2_downsampling(s2_cor_17,'cell_id','code_18',16,'categorical')\n",
    "s2_cor_16 = create_s2_geometry(s2_cor_16)\n",
    "s2_cor_16 = s2_cor_16.to_crs('EPSG:3301')\n",
    "s2_cor_16['area_s2_from_geom'] = s2_cor_16['geometry'].area/10000"
   ]
  },
  {
   "cell_type": "code",
   "execution_count": 84,
   "metadata": {},
   "outputs": [
    {
     "name": "stderr",
     "output_type": "stream",
     "text": [
      "C:\\Users\\Iam\\Anaconda3\\envs\\dggs\\lib\\site-packages\\ipykernel_launcher.py:1: RuntimeWarning: More than 20 figures have been opened. Figures created through the pyplot interface (`matplotlib.pyplot.figure`) are retained until explicitly closed and may consume too much memory. (To control this warning, see the rcParam `figure.max_open_warning`).\n",
      "  \"\"\"Entry point for launching an IPython kernel.\n"
     ]
    },
    {
     "data": {
      "application/vnd.jupyter.widget-view+json": {
       "model_id": "0e7325326b2747fda090a8c69368b8b8",
       "version_major": 2,
       "version_minor": 0
      },
      "text/plain": [
       "Canvas(toolbar=Toolbar(toolitems=[('Home', 'Reset original view', 'home', 'home'), ('Back', 'Back to previous …"
      ]
     },
     "metadata": {},
     "output_type": "display_data"
    }
   ],
   "source": [
    "fig, ax = plt.subplots(figsize=(8,5))\n",
    "corine_clipped.groupby('code_18',as_index=False)['area_original_from_geom'].sum().reset_index(drop=True).\\\n",
    "merge(s2_cor_18.groupby('code_18',as_index=False)['area_s2_from_geom'].sum(), on = 'code_18')[['code_18',\n",
    "       'area_original_from_geom', 'area_s2_from_geom']].plot(ax=ax, x='code_18', kind='bar', width=0.9)\n",
    "ax.set(title = 'res 18',\n",
    "ylabel = 'area, ha')\n",
    "plt.tight_layout()"
   ]
  },
  {
   "cell_type": "code",
   "execution_count": 83,
   "metadata": {},
   "outputs": [
    {
     "name": "stderr",
     "output_type": "stream",
     "text": [
      "C:\\Users\\Iam\\Anaconda3\\envs\\dggs\\lib\\site-packages\\ipykernel_launcher.py:1: RuntimeWarning: More than 20 figures have been opened. Figures created through the pyplot interface (`matplotlib.pyplot.figure`) are retained until explicitly closed and may consume too much memory. (To control this warning, see the rcParam `figure.max_open_warning`).\n",
      "  \"\"\"Entry point for launching an IPython kernel.\n"
     ]
    },
    {
     "data": {
      "application/vnd.jupyter.widget-view+json": {
       "model_id": "48cfe83c84f7411d92c965aee7021051",
       "version_major": 2,
       "version_minor": 0
      },
      "text/plain": [
       "Canvas(toolbar=Toolbar(toolitems=[('Home', 'Reset original view', 'home', 'home'), ('Back', 'Back to previous …"
      ]
     },
     "metadata": {},
     "output_type": "display_data"
    }
   ],
   "source": [
    "fig, ax = plt.subplots(figsize=(8,5))\n",
    "corine_clipped.groupby('code_18',as_index=False)['area_original_from_geom'].sum().reset_index(drop=True).\\\n",
    "merge(s2_cor_17.groupby('code_18',as_index=False)['area_s2_from_geom'].sum(), on = 'code_18')[['code_18',\n",
    "       'area_original_from_geom', 'area_s2_from_geom']].plot(ax=ax, x='code_18', kind='bar', width=0.9)\n",
    "ax.set(title = 'res 17',\n",
    "ylabel = 'area, ha')\n",
    "plt.tight_layout()"
   ]
  },
  {
   "cell_type": "code",
   "execution_count": 82,
   "metadata": {},
   "outputs": [
    {
     "name": "stderr",
     "output_type": "stream",
     "text": [
      "C:\\Users\\Iam\\Anaconda3\\envs\\dggs\\lib\\site-packages\\ipykernel_launcher.py:1: RuntimeWarning: More than 20 figures have been opened. Figures created through the pyplot interface (`matplotlib.pyplot.figure`) are retained until explicitly closed and may consume too much memory. (To control this warning, see the rcParam `figure.max_open_warning`).\n",
      "  \"\"\"Entry point for launching an IPython kernel.\n"
     ]
    },
    {
     "data": {
      "application/vnd.jupyter.widget-view+json": {
       "model_id": "4027efbfe1d64aa2bf83e334f807b4cc",
       "version_major": 2,
       "version_minor": 0
      },
      "text/plain": [
       "Canvas(toolbar=Toolbar(toolitems=[('Home', 'Reset original view', 'home', 'home'), ('Back', 'Back to previous …"
      ]
     },
     "metadata": {},
     "output_type": "display_data"
    }
   ],
   "source": [
    "fig, ax = plt.subplots(figsize=(8,5))\n",
    "corine_clipped.groupby('code_18',as_index=False)['area_original_from_geom'].sum().reset_index(drop=True).\\\n",
    "merge(s2_cor_16.groupby('code_18',as_index=False)['area_s2_from_geom'].sum(), on = 'code_18')[['code_18',\n",
    "       'area_original_from_geom', 'area_s2_from_geom']].plot(ax=ax, x='code_18', kind='bar', width=0.9)\n",
    "ax.set(title = 'res 16',\n",
    "ylabel = 'area, ha')\n",
    "plt.tight_layout()"
   ]
  },
  {
   "cell_type": "markdown",
   "metadata": {},
   "source": [
    "### EAGGR"
   ]
  },
  {
   "cell_type": "code",
   "execution_count": 73,
   "metadata": {},
   "outputs": [
    {
     "name": "stdout",
     "output_type": "stream",
     "text": [
      "Start filling extent with eaggr indexes at resolution\n"
     ]
    }
   ],
   "source": [
    "eaggr_cor_20 = vector_to_eaggr_t(vector,'code_18',400,5000,box(26.521263, 58.283163, 26.900083, 58.505180))\n",
    "eaggr_cor_20 = create_eaggr_geometry(eaggr_cor_20)\n",
    "eaggr_cor_20 = eaggr_cor_20.to_crs('EPSG:3301')\n",
    "eaggr_cor_20['area_eaggr_from_geom'] = eaggr_cor_20['geometry'].area/10000"
   ]
  },
  {
   "cell_type": "code",
   "execution_count": 74,
   "metadata": {},
   "outputs": [],
   "source": [
    "eaggr_cor_19 = cell_eaggr_t_downsampling(eaggr_cor_20,'cell_id','code_18',19,'categorical')\n",
    "eaggr_cor_19 = create_eaggr_geometry(eaggr_cor_19)\n",
    "eaggr_cor_19 = eaggr_cor_19.to_crs('EPSG:3301')\n",
    "eaggr_cor_19['area_eaggr_from_geom'] = eaggr_cor_19['geometry'].area/10000"
   ]
  },
  {
   "cell_type": "code",
   "execution_count": 75,
   "metadata": {},
   "outputs": [],
   "source": [
    "eaggr_cor_18 = cell_eaggr_t_downsampling(eaggr_cor_19,'cell_id','code_18',19,'categorical')\n",
    "eaggr_cor_18 = create_eaggr_geometry(eaggr_cor_18)\n",
    "eaggr_cor_18 = eaggr_cor_18.to_crs('EPSG:3301')\n",
    "eaggr_cor_18['area_eaggr_from_geom'] = eaggr_cor_18['geometry'].area/10000"
   ]
  },
  {
   "cell_type": "code",
   "execution_count": 81,
   "metadata": {},
   "outputs": [
    {
     "data": {
      "application/vnd.jupyter.widget-view+json": {
       "model_id": "1968884079674e1da41dad5f15c698ca",
       "version_major": 2,
       "version_minor": 0
      },
      "text/plain": [
       "Canvas(toolbar=Toolbar(toolitems=[('Home', 'Reset original view', 'home', 'home'), ('Back', 'Back to previous …"
      ]
     },
     "metadata": {},
     "output_type": "display_data"
    }
   ],
   "source": [
    "fig, ax = plt.subplots(figsize=(8,5))\n",
    "corine_clipped.groupby('code_18',as_index=False)['area_original_from_geom'].sum().reset_index(drop=True).\\\n",
    "merge(eaggr_cor_20.groupby('code_18',as_index=False)['area_eaggr_from_geom'].sum(), on = 'code_18')[['code_18',\n",
    "       'area_original_from_geom', 'area_eaggr_from_geom']].plot(ax=ax, x='code_18', kind='bar', width=0.9)\n",
    "ax.set(title = 'res 18',\n",
    "ylabel = 'area, ha')\n",
    "plt.tight_layout()"
   ]
  },
  {
   "cell_type": "code",
   "execution_count": 80,
   "metadata": {},
   "outputs": [
    {
     "data": {
      "application/vnd.jupyter.widget-view+json": {
       "model_id": "311c4aa6d244407097eb83e3da4331f6",
       "version_major": 2,
       "version_minor": 0
      },
      "text/plain": [
       "Canvas(toolbar=Toolbar(toolitems=[('Home', 'Reset original view', 'home', 'home'), ('Back', 'Back to previous …"
      ]
     },
     "metadata": {},
     "output_type": "display_data"
    }
   ],
   "source": [
    "fig, ax = plt.subplots(figsize=(8,5))\n",
    "corine_clipped.groupby('code_18',as_index=False)['area_original_from_geom'].sum().reset_index(drop=True).\\\n",
    "merge(eaggr_cor_19.groupby('code_18',as_index=False)['area_eaggr_from_geom'].sum(), on = 'code_18')[['code_18',\n",
    "       'area_original_from_geom', 'area_eaggr_from_geom']].plot(ax=ax, x='code_18', kind='bar', width=0.9)\n",
    "ax.set(title = 'res 17',\n",
    "ylabel = 'area, ha')\n",
    "plt.tight_layout()"
   ]
  },
  {
   "cell_type": "code",
   "execution_count": 79,
   "metadata": {},
   "outputs": [
    {
     "data": {
      "application/vnd.jupyter.widget-view+json": {
       "model_id": "a1714d1dcf354fd4b7bffbb841e3be25",
       "version_major": 2,
       "version_minor": 0
      },
      "text/plain": [
       "Canvas(toolbar=Toolbar(toolitems=[('Home', 'Reset original view', 'home', 'home'), ('Back', 'Back to previous …"
      ]
     },
     "metadata": {},
     "output_type": "display_data"
    }
   ],
   "source": [
    "fig, ax = plt.subplots(figsize=(8,5))\n",
    "corine_clipped.groupby('code_18',as_index=False)['area_original_from_geom'].sum().reset_index(drop=True).\\\n",
    "merge(eaggr_cor_18.groupby('code_18',as_index=False)['area_eaggr_from_geom'].sum(), on = 'code_18')[['code_18',\n",
    "       'area_original_from_geom', 'area_eaggr_from_geom']].plot(ax=ax, x='code_18', kind='bar', width=0.9)\n",
    "ax.set(title = 'res 16',\n",
    "ylabel = 'area, ha')\n",
    "plt.tight_layout()"
   ]
  }
 ],
 "metadata": {
  "kernelspec": {
   "display_name": "Python 3",
   "language": "python",
   "name": "python3"
  },
  "language_info": {
   "codemirror_mode": {
    "name": "ipython",
    "version": 3
   },
   "file_extension": ".py",
   "mimetype": "text/x-python",
   "name": "python",
   "nbconvert_exporter": "python",
   "pygments_lexer": "ipython3",
   "version": "3.7.8"
  }
 },
 "nbformat": 4,
 "nbformat_minor": 4
}
