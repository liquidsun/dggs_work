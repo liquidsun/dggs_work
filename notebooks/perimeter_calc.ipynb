{
 "cells": [
  {
   "cell_type": "code",
   "execution_count": 1,
   "metadata": {},
   "outputs": [],
   "source": [
    "import sys\n",
    "import geopandas as gpd\n",
    "import fiona\n",
    "from shapely.geometry import Polygon\n",
    "from shapely.ops import transform\n",
    "import math\n",
    "import pyproj\n",
    "sys.path.append('..')\n",
    "from h3_helper import *\n",
    "from s2_helper import *\n",
    "from rhealpix_helper import *\n",
    "from eaggr_helper import *\n",
    "#from dggrid4py import DGGRIDv7, Dggs, dgselect, dggs_types"
   ]
  },
  {
   "cell_type": "code",
   "execution_count": 6,
   "metadata": {},
   "outputs": [],
   "source": [
    "# Area from individual lambert azimutal projection\n",
    "def get_lambert_area(geom):\n",
    "    '''Area from cell's lambert azimutal projection'''\n",
    "    if (-180 <= geom.centroid.x <= 180) and (-90 <= geom.centroid.y <= 90):\n",
    "        proj_str = f\"+proj=laea +lat_0={geom.centroid.y} +lon_0={geom.centroid.x}\"\n",
    "        project = pyproj.Transformer.from_crs('EPSG:4236', proj_str, always_xy=True).transform\n",
    "        area = transform(project, geom).area\n",
    "    else:\n",
    "        print(f'invalid centroid {geom.centroid}')\n",
    "        area = None\n",
    "    return area"
   ]
  },
  {
   "cell_type": "code",
   "execution_count": 2,
   "metadata": {},
   "outputs": [],
   "source": [
    "def get_perimeter_from_lambert(geom):\n",
    "    '''Area from cell's lambert azimutal projection'''\n",
    "    if (-180 <= geom.centroid.x <= 180) and (-90 <= geom.centroid.y <= 90):\n",
    "        proj_str = f\"+proj=laea +lat_0={geom.centroid.y} +lon_0={geom.centroid.x}\"\n",
    "        project = pyproj.Transformer.from_crs('EPSG:4236', proj_str, always_xy=True).transform\n",
    "        perimeter = transform(project, geom).length\n",
    "    else:\n",
    "        print(f'invalid centroid {geom.centroid}')\n",
    "        perimeter = None\n",
    "    return perimeter\n",
    "    "
   ]
  },
  {
   "cell_type": "code",
   "execution_count": 2,
   "metadata": {},
   "outputs": [],
   "source": [
    "def get_area_perimeter_from_lambert(geom):\n",
    "    '''Area from cell's lambert azimutal projection'''\n",
    "    if (-180 <= geom.centroid.x <= 180) and (-90 <= geom.centroid.y <= 90):\n",
    "        proj_str = f\"+proj=laea +lat_0={geom.centroid.y} +lon_0={geom.centroid.x}\"\n",
    "        project = pyproj.Transformer.from_crs('EPSG:4236', proj_str, always_xy=True).transform\n",
    "        perimeter = transform(project, geom).length\n",
    "        area = transform(project, geom).area\n",
    "    else:\n",
    "        print(f'invalid centroid {geom.centroid}')\n",
    "        perimeter = None\n",
    "    return area, perimeter"
   ]
  },
  {
   "cell_type": "code",
   "execution_count": 6,
   "metadata": {},
   "outputs": [],
   "source": [
    "# Area from UTM zone\n",
    "def convert_wgs_to_utm(lon, lat):\n",
    "    utm_band = str((math.floor((lon + 180) / 6 ) % 60) + 1)\n",
    "    if len(utm_band) == 1:\n",
    "        utm_band = '0'+utm_band\n",
    "    if lat >= 0:\n",
    "        epsg_code = '326' + utm_band\n",
    "    else:\n",
    "        epsg_code = '327' + utm_band\n",
    "    return epsg_code\n",
    "\n",
    "def get_utm_area(geom):\n",
    "    '''Area from cell's UTM zone'''\n",
    "    if (-180 <= geom.centroid.x <= 180) and (-90 <= geom.centroid.y <= 90):\n",
    "        utm_epsg = convert_wgs_to_utm(geom.centroid.x, geom.centroid.y) \n",
    "        project = pyproj.Transformer.from_crs('EPSG:4236', f'EPSG:{utm_epsg}', always_xy=True).transform\n",
    "        area = transform(project, geom).area\n",
    "    else:\n",
    "        print(f'invalid centroid {geom.centroid}')\n",
    "        area = None\n",
    "    return area"
   ]
  },
  {
   "cell_type": "code",
   "execution_count": 3,
   "metadata": {
    "collapsed": true,
    "jupyter": {
     "outputs_hidden": true
    }
   },
   "outputs": [
    {
     "data": {
      "text/plain": [
       "['DGGRID_ISEA4H_7',\n",
       " 'DGGRID_ISEA3H_9',\n",
       " 'rhpix_5',\n",
       " 'DGGRID_ISEA7H_5',\n",
       " 'rhpix_5_anomalies',\n",
       " 'DGGRID_ISEA7H_5_anomalies',\n",
       " 'DGGRID_ISEA3H_9_clean',\n",
       " 'DGGRID_FULLER_4T',\n",
       " 'DGGRID_ISEA4D_7',\n",
       " 'DGGRID_FULLER_4D',\n",
       " 'H3_4',\n",
       " 'EAGGR4T_7',\n",
       " 'DGGRID_FULLER_7H',\n",
       " 'DGGRID_ISEA4T_7',\n",
       " 's2_8',\n",
       " 'DGGRID_FULLER_4D_clean',\n",
       " 'DGGRID_ISEA7H_5_clean',\n",
       " 'DGGRID_FULLER_7H_clean',\n",
       " 'rhpix_5_clean',\n",
       " 's2_8_clean',\n",
       " 'DGGRID_ISEA4D_7_clean']"
      ]
     },
     "execution_count": 3,
     "metadata": {},
     "output_type": "execute_result"
    }
   ],
   "source": [
    "fiona.listlayers(r'd:\\UTCloud\\DGGS\\grids\\grids.gpkg')"
   ]
  },
  {
   "cell_type": "code",
   "execution_count": 3,
   "metadata": {},
   "outputs": [],
   "source": [
    "grid = gpd.read_file(r'd:\\UTCloud\\DGGS\\grids\\grids.gpkg', layer='DGGRID_FULLER_4D', driver='gpkg').dropna()"
   ]
  },
  {
   "cell_type": "code",
   "execution_count": 4,
   "metadata": {},
   "outputs": [],
   "source": [
    "grid['std_area'],grid['zsc'] = zip(*grid['geometry'].apply(get_area_perimeter_from_lambert))"
   ]
  },
  {
   "cell_type": "code",
   "execution_count": 5,
   "metadata": {},
   "outputs": [],
   "source": [
    "grid = grid.rename(columns={'std_area':'ind_lambert_area','zsc':'lambert_perimeter'})"
   ]
  },
  {
   "cell_type": "code",
   "execution_count": 7,
   "metadata": {},
   "outputs": [],
   "source": [
    "gpd.GeoDataFrame(grid).to_file(r'd:\\UTCloud\\DGGS\\grids\\grids.gpkg', layer='DGGRID_FULLER_4D', driver='GPKG')"
   ]
  }
 ],
 "metadata": {
  "kernelspec": {
   "display_name": "Python 3",
   "language": "python",
   "name": "python3"
  },
  "language_info": {
   "codemirror_mode": {
    "name": "ipython",
    "version": 3
   },
   "file_extension": ".py",
   "mimetype": "text/x-python",
   "name": "python",
   "nbconvert_exporter": "python",
   "pygments_lexer": "ipython3",
   "version": "3.7.8"
  }
 },
 "nbformat": 4,
 "nbformat_minor": 4
}
