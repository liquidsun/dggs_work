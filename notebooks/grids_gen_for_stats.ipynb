{
 "cells": [
  {
   "cell_type": "code",
   "execution_count": 1,
   "metadata": {},
   "outputs": [],
   "source": [
    "import sys\n",
    "import geopandas as gpd\n",
    "import fiona\n",
    "from shapely.geometry import Polygon\n",
    "from shapely.ops import transform\n",
    "import math\n",
    "import pyproj\n",
    "sys.path.append('..')\n",
    "from h3_helper import *\n",
    "from s2_helper import *\n",
    "from rhealpix_helper import *\n",
    "from eaggr_helper import *\n",
    "import pywraps2 as s2\n",
    "#from dggrid4py import DGGRIDv7, Dggs, dgselect, dggs_types"
   ]
  },
  {
   "cell_type": "code",
   "execution_count": null,
   "metadata": {},
   "outputs": [],
   "source": []
  },
  {
   "cell_type": "code",
   "execution_count": 11,
   "metadata": {},
   "outputs": [],
   "source": [
    "# Area from individual lambert azimutal projection\n",
    "def get_lambert_area(geom):\n",
    "    '''Area from cell's lambert azimutal projection'''\n",
    "    if (-180 <= geom.centroid.x <= 180) and (-90 <= geom.centroid.y <= 90):\n",
    "        proj_str = f\"+proj=laea +lat_0={geom.centroid.y} +lon_0={geom.centroid.x}\"\n",
    "        project = pyproj.Transformer.from_crs('EPSG:4236', proj_str, always_xy=True).transform\n",
    "        area = transform(project, geom).area\n",
    "        #perimeter = transform(project, geom).length\n",
    "    else:\n",
    "        print(f'invalid centroid {geom.centroid}')\n",
    "        area = None\n",
    "        #perimeter = None\n",
    "    return area"
   ]
  },
  {
   "cell_type": "code",
   "execution_count": 15,
   "metadata": {},
   "outputs": [],
   "source": [
    "def get_perimeter_from_lambert(geom):\n",
    "    '''Area from cell's lambert azimutal projection'''\n",
    "    if (-180 <= geom.centroid.x <= 180) and (-90 <= geom.centroid.y <= 90):\n",
    "        proj_str = f\"+proj=laea +lat_0={geom.centroid.y} +lon_0={geom.centroid.x}\"\n",
    "        project = pyproj.Transformer.from_crs('EPSG:4236', proj_str, always_xy=True).transform\n",
    "        perimeter = transform(project, geom).length\n",
    "    else:\n",
    "        print(f'invalid centroid {geom.centroid}')\n",
    "        perimeter = None\n",
    "    return perimeter\n",
    "    "
   ]
  },
  {
   "cell_type": "code",
   "execution_count": 6,
   "metadata": {},
   "outputs": [],
   "source": [
    "# Area from UTM zone\n",
    "def convert_wgs_to_utm(lon, lat):\n",
    "    utm_band = str((math.floor((lon + 180) / 6 ) % 60) + 1)\n",
    "    if len(utm_band) == 1:\n",
    "        utm_band = '0'+utm_band\n",
    "    if lat >= 0:\n",
    "        epsg_code = '326' + utm_band\n",
    "    else:\n",
    "        epsg_code = '327' + utm_band\n",
    "    return epsg_code\n",
    "\n",
    "def get_utm_area(geom):\n",
    "    '''Area from cell's UTM zone'''\n",
    "    if (-180 <= geom.centroid.x <= 180) and (-90 <= geom.centroid.y <= 90):\n",
    "        utm_epsg = convert_wgs_to_utm(geom.centroid.x, geom.centroid.y) \n",
    "        project = pyproj.Transformer.from_crs('EPSG:4236', f'EPSG:{utm_epsg}', always_xy=True).transform\n",
    "        area = transform(project, geom).area\n",
    "    else:\n",
    "        print(f'invalid centroid {geom.centroid}')\n",
    "        area = None\n",
    "    return area"
   ]
  },
  {
   "cell_type": "code",
   "execution_count": 3,
   "metadata": {},
   "outputs": [],
   "source": [
    "grid = get_s2_cells(8)"
   ]
  },
  {
   "cell_type": "code",
   "execution_count": 4,
   "metadata": {},
   "outputs": [],
   "source": [
    "grid = create_s2_geometry(grid)"
   ]
  },
  {
   "cell_type": "code",
   "execution_count": 16,
   "metadata": {},
   "outputs": [],
   "source": [
    "grid['lambert_perimeter'] = grid['geometry'].apply(get_perimeter_from_lambert)"
   ]
  },
  {
   "cell_type": "code",
   "execution_count": 13,
   "metadata": {
    "collapsed": true,
    "jupyter": {
     "outputs_hidden": true
    }
   },
   "outputs": [
    {
     "data": {
      "text/html": [
       "<div>\n",
       "<style scoped>\n",
       "    .dataframe tbody tr th:only-of-type {\n",
       "        vertical-align: middle;\n",
       "    }\n",
       "\n",
       "    .dataframe tbody tr th {\n",
       "        vertical-align: top;\n",
       "    }\n",
       "\n",
       "    .dataframe thead th {\n",
       "        text-align: right;\n",
       "    }\n",
       "</style>\n",
       "<table border=\"1\" class=\"dataframe\">\n",
       "  <thead>\n",
       "    <tr style=\"text-align: right;\">\n",
       "      <th></th>\n",
       "      <th>cell_id</th>\n",
       "      <th>geometry</th>\n",
       "      <th>ind_lambert_area</th>\n",
       "    </tr>\n",
       "  </thead>\n",
       "  <tbody>\n",
       "    <tr>\n",
       "      <th>0</th>\n",
       "      <td>00001</td>\n",
       "      <td>POLYGON ((-45.00000 -35.26439, -44.70061 -35.4...</td>\n",
       "      <td>8.530865e+08</td>\n",
       "    </tr>\n",
       "    <tr>\n",
       "      <th>1</th>\n",
       "      <td>00003</td>\n",
       "      <td>POLYGON ((-44.70061 -35.40491, -44.39929 -35.5...</td>\n",
       "      <td>8.586376e+08</td>\n",
       "    </tr>\n",
       "    <tr>\n",
       "      <th>2</th>\n",
       "      <td>00005</td>\n",
       "      <td>POLYGON ((-44.70061 -35.12264, -44.39929 -35.2...</td>\n",
       "      <td>8.642055e+08</td>\n",
       "    </tr>\n",
       "    <tr>\n",
       "      <th>3</th>\n",
       "      <td>00007</td>\n",
       "      <td>POLYGON ((-45.00000 -34.98262, -44.70061 -35.1...</td>\n",
       "      <td>8.585566e+08</td>\n",
       "    </tr>\n",
       "    <tr>\n",
       "      <th>4</th>\n",
       "      <td>00009</td>\n",
       "      <td>POLYGON ((-45.00000 -34.70000, -44.70061 -34.8...</td>\n",
       "      <td>8.639809e+08</td>\n",
       "    </tr>\n",
       "    <tr>\n",
       "      <th>...</th>\n",
       "      <td>...</td>\n",
       "      <td>...</td>\n",
       "      <td>...</td>\n",
       "    </tr>\n",
       "    <tr>\n",
       "      <th>393211</th>\n",
       "      <td>bfff7</td>\n",
       "      <td>POLYGON ((-44.69864 -35.68907, -44.39532 -35.8...</td>\n",
       "      <td>8.641845e+08</td>\n",
       "    </tr>\n",
       "    <tr>\n",
       "      <th>393212</th>\n",
       "      <td>bfff9</td>\n",
       "      <td>POLYGON ((-45.00000 -35.54715, -44.69864 -35.6...</td>\n",
       "      <td>8.586777e+08</td>\n",
       "    </tr>\n",
       "    <tr>\n",
       "      <th>393213</th>\n",
       "      <td>bfffb</td>\n",
       "      <td>POLYGON ((-45.30136 -35.68907, -45.00000 -35.8...</td>\n",
       "      <td>8.643263e+08</td>\n",
       "    </tr>\n",
       "    <tr>\n",
       "      <th>393214</th>\n",
       "      <td>bfffd</td>\n",
       "      <td>POLYGON ((-45.60071 -35.54510, -45.30136 -35.6...</td>\n",
       "      <td>8.586757e+08</td>\n",
       "    </tr>\n",
       "    <tr>\n",
       "      <th>393215</th>\n",
       "      <td>bffff</td>\n",
       "      <td>POLYGON ((-45.29939 -35.40491, -45.00000 -35.5...</td>\n",
       "      <td>8.531260e+08</td>\n",
       "    </tr>\n",
       "  </tbody>\n",
       "</table>\n",
       "<p>393216 rows × 3 columns</p>\n",
       "</div>"
      ],
      "text/plain": [
       "       cell_id                                           geometry  \\\n",
       "0        00001  POLYGON ((-45.00000 -35.26439, -44.70061 -35.4...   \n",
       "1        00003  POLYGON ((-44.70061 -35.40491, -44.39929 -35.5...   \n",
       "2        00005  POLYGON ((-44.70061 -35.12264, -44.39929 -35.2...   \n",
       "3        00007  POLYGON ((-45.00000 -34.98262, -44.70061 -35.1...   \n",
       "4        00009  POLYGON ((-45.00000 -34.70000, -44.70061 -34.8...   \n",
       "...        ...                                                ...   \n",
       "393211   bfff7  POLYGON ((-44.69864 -35.68907, -44.39532 -35.8...   \n",
       "393212   bfff9  POLYGON ((-45.00000 -35.54715, -44.69864 -35.6...   \n",
       "393213   bfffb  POLYGON ((-45.30136 -35.68907, -45.00000 -35.8...   \n",
       "393214   bfffd  POLYGON ((-45.60071 -35.54510, -45.30136 -35.6...   \n",
       "393215   bffff  POLYGON ((-45.29939 -35.40491, -45.00000 -35.5...   \n",
       "\n",
       "        ind_lambert_area  \n",
       "0           8.530865e+08  \n",
       "1           8.586376e+08  \n",
       "2           8.642055e+08  \n",
       "3           8.585566e+08  \n",
       "4           8.639809e+08  \n",
       "...                  ...  \n",
       "393211      8.641845e+08  \n",
       "393212      8.586777e+08  \n",
       "393213      8.643263e+08  \n",
       "393214      8.586757e+08  \n",
       "393215      8.531260e+08  \n",
       "\n",
       "[393216 rows x 3 columns]"
      ]
     },
     "execution_count": 13,
     "metadata": {},
     "output_type": "execute_result"
    }
   ],
   "source": [
    "grid"
   ]
  },
  {
   "cell_type": "code",
   "execution_count": 2,
   "metadata": {
    "collapsed": true,
    "jupyter": {
     "outputs_hidden": true
    }
   },
   "outputs": [
    {
     "data": {
      "text/plain": [
       "['DGGRID_ISEA4H_7',\n",
       " 'DGGRID_ISEA4T_7',\n",
       " 'DGGRID_ISEA3H_9',\n",
       " 'rhpix_5',\n",
       " 'DGGRID_ISEA7H_5',\n",
       " 's2_8',\n",
       " 'H3_4',\n",
       " 's2_8_clean',\n",
       " 'rhpix_5_anomalies',\n",
       " 'rhpix_5_clean',\n",
       " 'DGGRID_ISEA7H_5_clean',\n",
       " 'DGGRID_ISEA7H_5_anomalies',\n",
       " 'DGGRID_ISEA3H_9_clean',\n",
       " 'DGGRID_FULLER_4T',\n",
       " 'DGGRID_FULLER_7H',\n",
       " 'EAGGR4T_7',\n",
       " 'DGGRID_ISEA4D_7',\n",
       " 'DGGRID_ISEA4D_7_clean',\n",
       " 'DGGRID_FULLER_4D',\n",
       " 'DGGRID_FULLER_4D_clean']"
      ]
     },
     "execution_count": 2,
     "metadata": {},
     "output_type": "execute_result"
    }
   ],
   "source": [
    "fiona.listlayers(r'd:\\UTCloud\\DGGS\\grids\\grids.gpkg')"
   ]
  },
  {
   "cell_type": "code",
   "execution_count": 3,
   "metadata": {},
   "outputs": [],
   "source": [
    "grid = gpd.read_file(r'd:\\UTCloud\\DGGS\\grids\\grids.gpkg', layer='H3_4', driver='gpkg').dropna()"
   ]
  },
  {
   "cell_type": "code",
   "execution_count": 59,
   "metadata": {},
   "outputs": [],
   "source": [
    "grid['isea_area'] = grid.to_crs('proj=isea')['geometry'].area"
   ]
  },
  {
   "cell_type": "code",
   "execution_count": 5,
   "metadata": {},
   "outputs": [],
   "source": [
    "grid['ind_lambert_area'] = grid['geometry'].apply(get_lambert_area)"
   ]
  },
  {
   "cell_type": "code",
   "execution_count": 60,
   "metadata": {},
   "outputs": [],
   "source": [
    "grid['goode_area'] = grid.to_crs('proj=goode')['geometry'].area"
   ]
  },
  {
   "cell_type": "code",
   "execution_count": 7,
   "metadata": {},
   "outputs": [],
   "source": [
    "grid['ind_UTM_area'] = grid['geometry'].apply(get_utm_area)"
   ]
  },
  {
   "cell_type": "code",
   "execution_count": null,
   "metadata": {},
   "outputs": [],
   "source": [
    "grid['ind_lambert_area'] = grid['geometry'].apply(get_lambert_area)"
   ]
  },
  {
   "cell_type": "code",
   "execution_count": 17,
   "metadata": {},
   "outputs": [],
   "source": [
    "gpd.GeoDataFrame(grid).to_file(r'd:\\UTCloud\\DGGS\\grids\\grids.gpkg', layer='s2_8', driver='GPKG')"
   ]
  }
 ],
 "metadata": {
  "kernelspec": {
   "display_name": "Python 3",
   "language": "python",
   "name": "python3"
  },
  "language_info": {
   "codemirror_mode": {
    "name": "ipython",
    "version": 3
   },
   "file_extension": ".py",
   "mimetype": "text/x-python",
   "name": "python",
   "nbconvert_exporter": "python",
   "pygments_lexer": "ipython3",
   "version": "3.7.8"
  }
 },
 "nbformat": 4,
 "nbformat_minor": 4
}
